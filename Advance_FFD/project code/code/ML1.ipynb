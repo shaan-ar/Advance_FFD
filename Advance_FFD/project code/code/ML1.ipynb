{
 "cells": [
  {
   "cell_type": "code",
   "execution_count": 92,
   "metadata": {},
   "outputs": [],
   "source": [
    "import numpy as np\n",
    "import pandas as pd\n",
    "from sklearn.model_selection import train_test_split\n",
    "from sklearn.preprocessing import StandardScaler, LabelEncoder\n",
    "from sklearn.metrics import accuracy_score, classification_report, confusion_matrix\n",
    "import matplotlib.pyplot as plt\n",
    "import seaborn as sns\n",
    "from sklearn.ensemble import IsolationForest\n",
    "from sklearn.cluster import DBSCAN\n",
    "\n"
   ]
  },
  {
   "cell_type": "code",
   "execution_count": 93,
   "metadata": {},
   "outputs": [
    {
     "name": "stdout",
     "output_type": "stream",
     "text": [
      "       step  type  branch    amount  nameOrig  oldbalanceOrg  newbalanceOrig  \\\n",
      "0  1.120083     3      39 -0.381788      4776      -0.416752       -0.417682   \n",
      "1  1.120083     3      51 -0.381443      8530      -0.416752       -0.417682   \n",
      "2  1.120083     3      55 -0.366426      6610      -0.416752       -0.417682   \n",
      "3  1.120083     3      40 -0.379262       714      -0.416752       -0.417682   \n",
      "4  1.120083     3      40 -0.384378       687      -0.416752       -0.417682   \n",
      "\n",
      "   nameDest  oldbalanceDest  newbalanceDest  unusuallogin  isFlaggedFraud  \\\n",
      "0      1789       -0.348586       -0.363802     -0.605099             0.0   \n",
      "1      4374       -0.348586       -0.363802     -1.465773             0.0   \n",
      "2      2139       -0.348586       -0.363802     -1.293638             0.0   \n",
      "3      5488       -0.348586       -0.363802      0.427709             0.0   \n",
      "4      5772       -0.348586       -0.363802     -0.605099             0.0   \n",
      "\n",
      "   Acct type  Date of transaction  Time of day  isFraud   Column1  \\\n",
      "0          1                    1            0        1  0.718657   \n",
      "1          1                    2            2        1  0.733395   \n",
      "2          1                    4            1        1  0.752930   \n",
      "3          1                    3            0        1  0.772466   \n",
      "4          1                    3            1        1  0.772809   \n",
      "\n",
      "   isFraud - Copy  DayOfWeek  DayOfWeek(new)  \n",
      "0        -0.08238  -0.698416               6  \n",
      "1        -0.08238   0.450764               0  \n",
      "2        -0.08238   1.599943               3  \n",
      "3        -0.08238   1.025353               2  \n",
      "4        -0.08238   1.025353               2  \n",
      "           step      type    branch    amount  nameOrig  oldbalanceOrg  \\\n",
      "count  10088.00  10088.00  10088.00  10088.00  10088.00       10088.00   \n",
      "mean       0.00      2.22     51.34      0.00   5043.50           0.00   \n",
      "std        1.00      1.33     33.40      1.00   2912.30           1.00   \n",
      "min       -1.30      0.00      0.00     -0.39      0.00          -0.42   \n",
      "25%       -1.30      1.00     25.00     -0.37   2521.75          -0.42   \n",
      "50%        0.31      3.00     44.00     -0.34   5043.50          -0.41   \n",
      "75%        1.12      3.00     78.00      0.03   7565.25          -0.34   \n",
      "max        1.12      4.00    134.00     36.51  10087.00           5.65   \n",
      "\n",
      "       newbalanceOrig  nameDest  oldbalanceDest  newbalanceDest  unusuallogin  \\\n",
      "count        10088.00  10088.00        10088.00        10088.00      10088.00   \n",
      "mean             0.00   2257.08           -0.00            0.00         -0.00   \n",
      "std              1.00   1999.82            1.00            1.00          1.00   \n",
      "min             -0.42      0.00           -0.35           -0.36         -1.81   \n",
      "25%             -0.42    536.75           -0.35           -0.36         -0.78   \n",
      "50%             -0.41   1432.50           -0.35           -0.36         -0.09   \n",
      "75%             -0.34   3954.25           -0.24           -0.28          0.94   \n",
      "max              5.56   6476.00            6.93            7.06          1.63   \n",
      "\n",
      "       isFlaggedFraud  Acct type  Date of transaction  Time of day   isFraud  \\\n",
      "count         10088.0   10088.00             10088.00     10088.00  10088.00   \n",
      "mean              0.0       0.69                 6.71         0.97      0.99   \n",
      "std               0.0       0.46                 3.75         0.83      0.08   \n",
      "min               0.0       0.00                 0.00         0.00      0.00   \n",
      "25%               0.0       0.00                 3.00         0.00      1.00   \n",
      "50%               0.0       1.00                 6.00         1.00      1.00   \n",
      "75%               0.0       1.00                10.00         2.00      1.00   \n",
      "max               0.0       1.00                13.00         2.00      1.00   \n",
      "\n",
      "        Column1  isFraud - Copy  DayOfWeek  DayOfWeek(new)  \n",
      "count  10088.00        10088.00   10088.00        10088.00  \n",
      "mean      -0.00           -0.00      -0.00            2.86  \n",
      "std        1.00            1.00       1.00            2.10  \n",
      "min       -1.74           -0.08      -1.85            0.00  \n",
      "25%       -0.87           -0.08      -0.70            1.00  \n",
      "50%       -0.00           -0.08       0.45            2.00  \n",
      "75%        0.87           -0.08       1.03            5.00  \n",
      "max        1.73           12.14       1.60            6.00  \n"
     ]
    }
   ],
   "source": [
    "# Load the new dataset\n",
    "df = pd.read_csv('Fraud Dataset_NEW.csv')\n",
    "\n",
    "# Drop rows with missing values\n",
    "df = df.dropna()\n",
    "# Convert categorical data to numeric values using LabelEncoder\n",
    "label_encoders = {}\n",
    "for col in [\"type\", \"isFraud\",\"nameOrig\", \"nameDest\", \"branch\", \"Acct type\", \"Date of transaction\", \"Time of day\", \"DayOfWeek\", \"DayOfWeek(new)\"]:\n",
    "    le = LabelEncoder()\n",
    "    df[col] = le.fit_transform(df[col])\n",
    "    label_encoders[col] = le\n",
    "\n",
    "scaler = StandardScaler()\n",
    "numerical_columns = df.select_dtypes(include=['float64', 'int64']).columns\n",
    "df[numerical_columns] = scaler.fit_transform(df[numerical_columns])\n",
    "\n",
    "\n",
    "# Display the first few rows of the transformed dataset\n",
    "print(df.head())\n",
    "print(df.describe().round(2))\n"
   ]
  },
  {
   "cell_type": "code",
   "execution_count": 94,
   "metadata": {},
   "outputs": [
    {
     "name": "stdout",
     "output_type": "stream",
     "text": [
      "Supervised Learning\n",
      "Accuracy: 1.0\n",
      "              precision    recall  f1-score   support\n",
      "\n",
      "           0       1.00      1.00      1.00        14\n",
      "           1       1.00      1.00      1.00      2004\n",
      "\n",
      "    accuracy                           1.00      2018\n",
      "   macro avg       1.00      1.00      1.00      2018\n",
      "weighted avg       1.00      1.00      1.00      2018\n",
      "\n",
      "[[  14    0]\n",
      " [   0 2004]]\n"
     ]
    }
   ],
   "source": [
    "from sklearn.ensemble import GradientBoostingClassifier\n",
    "\n",
    "# Prepare data for supervised learning\n",
    "X = df.drop(columns=[\"isFraud\", \"isFlaggedFraud\"], errors='ignore')\n",
    "y = df[\"isFraud\"]\n",
    "\n",
    "# Split the data into training and testing sets for supervised learning\n",
    "X_train, X_test, y_train, y_test = train_test_split(X, y, test_size=0.2, random_state=42, stratify=y)\n",
    "\n",
    "\n",
    "\n",
    "clf_gb = GradientBoostingClassifier(\n",
    "    n_estimators=10,  # Reduce the number of trees\n",
    "    learning_rate=0.5,  # Increase the learning rate\n",
    "    max_depth=2,  # Reduce the maximum depth of trees\n",
    "    random_state=42\n",
    ")\n",
    "clf_gb.fit(X_train, y_train)\n",
    "\n",
    "y_pred = clf_gb.predict(X_test)\n",
    "\n",
    "print(\"Supervised Learning\")\n",
    "print(\"Accuracy:\", accuracy_score(y_test, y_pred))\n",
    "print(classification_report(y_test, y_pred))\n",
    "print(confusion_matrix(y_test, y_pred))\n"
   ]
  },
  {
   "cell_type": "code",
   "execution_count": 95,
   "metadata": {},
   "outputs": [
    {
     "data": {
      "image/png": "[encoded data removed]",
      "text/plain": [
       "<Figure size 600x500 with 2 Axes>"
      ]
     },
     "metadata": {},
     "output_type": "display_data"
    }
   ],
   "source": [
    "# Plot confusion matrix\n",
    "plt.figure(figsize=(6,5))\n",
    "cm_xgb = confusion_matrix(y_test, y_pred)\n",
    "sns.heatmap(cm_xgb, annot=True, fmt=\"d\", cmap=\"Blues\", xticklabels=[\"No Fraud\", \"Fraud\"], yticklabels=[\"No Fraud\", \"Fraud\"])\n",
    "plt.xlabel(\"Predicted\")\n",
    "plt.ylabel(\"Actual\")\n",
    "plt.title(\"Confusion Matrix - XGBoost\")\n",
    "plt.show()\n"
   ]
  },
  {
   "cell_type": "code",
   "execution_count": 96,
   "metadata": {},
   "outputs": [],
   "source": [
    "iso_forest = IsolationForest(contamination=0.1, random_state=42)\n",
    "df[\"fraud_prediction\"] = iso_forest.fit_predict(X)\n",
    "df[\"fraud_prediction\"] = df[\"fraud_prediction\"].apply(lambda x: 1 if x == -1 else 0)#0=normal, 1=fraud\n",
    "\n"
   ]
  },
  {
   "cell_type": "code",
   "execution_count": 97,
   "metadata": {},
   "outputs": [
    {
     "name": "stdout",
     "output_type": "stream",
     "text": [
      "Cluster\n",
      "-1    10088\n",
      "Name: count, dtype: int64\n"
     ]
    },
    {
     "data": {
      "image/png": "[encoded data removed]",
      "text/plain": [
       "<Figure size 600x500 with 1 Axes>"
      ]
     },
     "metadata": {},
     "output_type": "display_data"
    }
   ],
   "source": [
    "\n",
    "dbscan = DBSCAN(eps=0.5, min_samples=5)\n",
    "df['Cluster'] = dbscan.fit_predict(df.drop(columns=[\"isFraud\", \"isFlaggedFraud\", \"fraud_prediction\"], errors='ignore'))\n",
    "\n",
    "print(df['Cluster'].value_counts())\n",
    "\n",
    "plt.figure(figsize=(6,5))\n",
    "sns.scatterplot(data=df, x=\"isFraud\", y=\"amount\", hue=\"Cluster\", palette=\"viridis\")\n",
    "plt.xlabel(\"isfraud\")\n",
    "plt.ylabel(\"Amount\")\n",
    "plt.title(\"DBSCAN Clustering\")\n",
    "plt.show()\n"
   ]
  },
  {
   "cell_type": "code",
   "execution_count": 98,
   "metadata": {},
   "outputs": [
    {
     "name": "stdout",
     "output_type": "stream",
     "text": [
      "   step     type          branch   amount     nameOrig  oldbalanceOrg  \\\n",
      "0   7.0  PAYMENT          Espana  1526.50  C1908839976            0.0   \n",
      "1   7.0  PAYMENT        Honduras  1620.17    C70432899            0.0   \n",
      "2   7.0  PAYMENT       Indonesia  5689.82   C332151172            0.0   \n",
      "3   7.0  PAYMENT  Estados Unidos  2211.07  C1148172078            0.0   \n",
      "4   7.0  PAYMENT  Estados Unidos   824.63  C1142006014            0.0   \n",
      "\n",
      "   newbalanceOrig     nameDest  oldbalanceDest  newbalanceDest  ...  \\\n",
      "0             0.0  M1304522697             0.0             0.0  ...   \n",
      "1             0.0   M252297858             0.0             0.0  ...   \n",
      "2             0.0  M1430674428             0.0             0.0  ...   \n",
      "3             0.0   M650835126             0.0             0.0  ...   \n",
      "4             0.0   M745868137             0.0             0.0  ...   \n",
      "\n",
      "   Acct type  Date of transaction Time of day isFraud Column1 isFraud - Copy  \\\n",
      "0    Savings            03-Jan-18   Afternoon    Safe  7168.0  -8.673617e-19   \n",
      "1    Savings            05-Jan-18       Night    Safe  7211.0  -8.673617e-19   \n",
      "2    Savings            07-Jan-18     Morning    Safe  7268.0  -8.673617e-19   \n",
      "3    Savings            06-Jan-18   Afternoon    Safe  7325.0  -8.673617e-19   \n",
      "4    Savings            06-Jan-18     Morning    Safe  7326.0  -8.673617e-19   \n",
      "\n",
      "   DayOfWeek  DayOfWeek(new)  fraud_prediction Cluster  \n",
      "0        3.0       Wednesday                 0      -1  \n",
      "1        5.0          Friday                 0      -1  \n",
      "2        7.0          Sunday                 0      -1  \n",
      "3        6.0        Saturday                 0      -1  \n",
      "4        6.0        Saturday                 0      -1  \n",
      "\n",
      "[5 rows x 22 columns]\n",
      "           step       amount  oldbalanceOrg  newbalanceOrig  oldbalanceDest  \\\n",
      "count  10088.00     10088.00       10088.00        10088.00        10088.00   \n",
      "mean       4.22    104991.52      886732.20       907773.78       934511.77   \n",
      "std        2.48    271014.41     2127828.62      2173468.22      2680995.03   \n",
      "min        1.00         2.39           0.00            0.00            0.00   \n",
      "25%        1.00      4392.41         135.50            0.00            0.00   \n",
      "50%        5.00     12818.75       21394.00        10283.01            0.00   \n",
      "75%        7.00    114409.04      173205.98       172150.91       281882.86   \n",
      "max        7.00  10000000.00    12900000.00     13000000.00     19500000.00   \n",
      "\n",
      "       newbalanceDest  unusuallogin  isFlaggedFraud   Column1  isFraud - Copy  \\\n",
      "count        10088.00      10088.00         10088.0  10088.00        10088.00   \n",
      "mean       1108235.51         10.52             0.0   5071.14            0.01   \n",
      "std        3046412.31          5.81             0.0   2917.89            0.08   \n",
      "min              0.00          0.00             0.0      0.00           -0.00   \n",
      "25%              0.00          6.00             0.0   2546.75           -0.00   \n",
      "50%              0.00         10.00             0.0   5068.50           -0.00   \n",
      "75%         252373.56         16.00             0.0   7596.25           -0.00   \n",
      "max       22600000.00         20.00             0.0  10126.00            1.00   \n",
      "\n",
      "       DayOfWeek  fraud_prediction  Cluster  \n",
      "count   10088.00           10088.0  10088.0  \n",
      "mean        4.22               0.1     -1.0  \n",
      "std         1.74               0.3      0.0  \n",
      "min         1.00               0.0     -1.0  \n",
      "25%         3.00               0.0     -1.0  \n",
      "50%         5.00               0.0     -1.0  \n",
      "75%         6.00               0.0     -1.0  \n",
      "max         7.00               1.0     -1.0  \n"
     ]
    }
   ],
   "source": [
    "# Reverse the normalization of numerical columns\n",
    "df[numerical_columns] = scaler.inverse_transform(df[numerical_columns])\n",
    "\n",
    "# Reverse the label encoding for categorical columns\n",
    "for col, le in label_encoders.items():\n",
    "    if df[col].dtype == 'float64':\n",
    "        df[col] = df[col].astype(int)\n",
    "    df[col] = le.inverse_transform(df[col])\n",
    "\n",
    "print(df.head())\n",
    "print(df.describe().round(2))"
   ]
  },
  {
   "cell_type": "code",
   "execution_count": 99,
   "metadata": {},
   "outputs": [],
   "source": [
    "df.to_csv('Traineddata3.csv', index=False)"
   ]
  }
 ],
 "metadata": {
  "kernelspec": {
   "display_name": "base",
   "language": "python",
   "name": "python3"
  },
  "language_info": {
   "codemirror_mode": {
    "name": "ipython",
    "version": 3
   },
   "file_extension": ".py",
   "mimetype": "text/x-python",
   "name": "python",
   "nbconvert_exporter": "python",
   "pygments_lexer": "ipython3",
   "version": "3.12.4"
  }
 },
 "nbformat": 4,
 "nbformat_minor": 2
}
